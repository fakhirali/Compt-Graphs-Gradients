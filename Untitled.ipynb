{
 "cells": [
  {
   "cell_type": "code",
   "execution_count": 1,
   "id": "db3ace21",
   "metadata": {},
   "outputs": [],
   "source": [
    "import TensionFlow as tf\n",
    "import torch\n",
    "import numpy as np"
   ]
  },
  {
   "cell_type": "code",
   "execution_count": 2,
   "id": "e3ba81bf",
   "metadata": {},
   "outputs": [],
   "source": [
    "np_a = np.random.rand(10,10)"
   ]
  },
  {
   "cell_type": "code",
   "execution_count": 3,
   "id": "65c4123f",
   "metadata": {},
   "outputs": [],
   "source": [
    "dim = 1"
   ]
  },
  {
   "cell_type": "code",
   "execution_count": 4,
   "id": "cfee102b",
   "metadata": {
    "scrolled": true
   },
   "outputs": [
    {
     "data": {
      "text/plain": [
       "array([0.93074594, 0.97338742, 0.98947334, 0.94206692, 0.89723424,\n",
       "       0.78885325, 0.84388378, 0.96066341, 0.94823326, 0.99770305])"
      ]
     },
     "execution_count": 4,
     "metadata": {},
     "output_type": "execute_result"
    }
   ],
   "source": [
    "np_a.max(dim)"
   ]
  },
  {
   "cell_type": "code",
   "execution_count": 5,
   "id": "1762a0ea",
   "metadata": {},
   "outputs": [
    {
     "data": {
      "text/plain": [
       "array([5, 2, 1, 6, 9, 7, 0, 8, 9, 2])"
      ]
     },
     "execution_count": 5,
     "metadata": {},
     "output_type": "execute_result"
    }
   ],
   "source": [
    "np_a.argmax(dim)"
   ]
  },
  {
   "cell_type": "code",
   "execution_count": 6,
   "id": "40b5b9d0",
   "metadata": {},
   "outputs": [],
   "source": [
    "indices = np_a.argmax(dim)+[i*np_a.shape[dim] for i in range(np_a.shape[dim])]"
   ]
  },
  {
   "cell_type": "code",
   "execution_count": 7,
   "id": "46038a45",
   "metadata": {},
   "outputs": [
    {
     "data": {
      "text/plain": [
       "array([ 5, 12, 21, 36, 49, 57, 60, 78, 89, 92])"
      ]
     },
     "execution_count": 7,
     "metadata": {},
     "output_type": "execute_result"
    }
   ],
   "source": [
    "indices"
   ]
  },
  {
   "cell_type": "code",
   "execution_count": 8,
   "id": "4079d42f",
   "metadata": {},
   "outputs": [],
   "source": [
    "i,j = np.unravel_index(indices, np_a.shape, 'C' if dim%2 else 'F')"
   ]
  },
  {
   "cell_type": "code",
   "execution_count": 9,
   "id": "149c40a5",
   "metadata": {},
   "outputs": [
    {
     "data": {
      "text/plain": [
       "array([0.93074594, 0.97338742, 0.98947334, 0.94206692, 0.89723424,\n",
       "       0.78885325, 0.84388378, 0.96066341, 0.94823326, 0.99770305])"
      ]
     },
     "execution_count": 9,
     "metadata": {},
     "output_type": "execute_result"
    }
   ],
   "source": [
    "np_a[i,j]"
   ]
  },
  {
   "cell_type": "code",
   "execution_count": null,
   "id": "76a585db",
   "metadata": {},
   "outputs": [],
   "source": []
  },
  {
   "cell_type": "code",
   "execution_count": null,
   "id": "3bef2479",
   "metadata": {},
   "outputs": [],
   "source": []
  },
  {
   "cell_type": "code",
   "execution_count": null,
   "id": "c413fc94",
   "metadata": {},
   "outputs": [],
   "source": []
  },
  {
   "cell_type": "code",
   "execution_count": null,
   "id": "f1a34b55",
   "metadata": {},
   "outputs": [],
   "source": []
  },
  {
   "cell_type": "code",
   "execution_count": 10,
   "id": "d79e4930",
   "metadata": {},
   "outputs": [],
   "source": [
    "a = tf.Neuron(np_a)"
   ]
  },
  {
   "cell_type": "code",
   "execution_count": null,
   "id": "f3366e95",
   "metadata": {},
   "outputs": [],
   "source": []
  },
  {
   "cell_type": "code",
   "execution_count": 11,
   "id": "fb172a27",
   "metadata": {},
   "outputs": [],
   "source": [
    "a1 = torch.tensor(np_a, requires_grad=True)"
   ]
  },
  {
   "cell_type": "code",
   "execution_count": 12,
   "id": "19d328e5",
   "metadata": {},
   "outputs": [
    {
     "data": {
      "text/plain": [
       "tensor([[6.4215e-01, 9.0690e-01, 4.6032e-01, 3.7514e-01, 2.8718e-01, 9.3075e-01,\n",
       "         9.1947e-01, 3.8614e-02, 2.3648e-02, 6.5763e-01],\n",
       "        [8.3893e-01, 2.1188e-02, 9.7339e-01, 9.2218e-01, 3.7885e-01, 1.8460e-01,\n",
       "         9.5799e-01, 7.2210e-01, 8.8636e-02, 6.0942e-01],\n",
       "        [6.8006e-01, 9.8947e-01, 9.0586e-01, 9.2559e-01, 7.8633e-01, 8.9944e-01,\n",
       "         5.1768e-01, 1.9322e-02, 3.4979e-02, 5.9199e-02],\n",
       "        [2.5015e-01, 7.7970e-01, 8.4641e-01, 8.0727e-02, 4.5664e-01, 6.1357e-01,\n",
       "         9.4207e-01, 4.8180e-07, 1.3791e-01, 6.3747e-02],\n",
       "        [8.5586e-02, 3.6588e-01, 5.9389e-01, 1.8882e-01, 8.0450e-01, 7.8721e-01,\n",
       "         7.9372e-01, 4.8881e-01, 8.6535e-01, 8.9723e-01],\n",
       "        [6.9655e-01, 3.0643e-01, 6.3872e-01, 1.9863e-01, 4.3191e-01, 7.5931e-01,\n",
       "         6.3558e-01, 7.8885e-01, 2.8408e-01, 7.7787e-01],\n",
       "        [8.4388e-01, 3.8021e-01, 5.5620e-01, 2.4451e-01, 5.2654e-03, 4.8445e-01,\n",
       "         6.7792e-01, 3.6285e-01, 2.3096e-01, 1.6386e-01],\n",
       "        [7.5993e-01, 7.2059e-01, 1.6796e-01, 2.7562e-01, 9.1002e-01, 6.0235e-01,\n",
       "         8.0208e-01, 1.2372e-01, 9.6066e-01, 3.6009e-01],\n",
       "        [5.6008e-01, 3.9661e-01, 2.2923e-02, 2.3871e-01, 4.7208e-01, 2.4025e-01,\n",
       "         5.6487e-01, 6.4217e-01, 6.4703e-01, 9.4823e-01],\n",
       "        [3.7695e-01, 7.6365e-01, 9.9770e-01, 2.3254e-01, 7.2176e-01, 8.3666e-01,\n",
       "         3.9013e-01, 1.1257e-01, 6.5406e-01, 6.2044e-01]], dtype=torch.float64,\n",
       "       requires_grad=True)"
      ]
     },
     "execution_count": 12,
     "metadata": {},
     "output_type": "execute_result"
    }
   ],
   "source": [
    "a1 "
   ]
  },
  {
   "cell_type": "code",
   "execution_count": 13,
   "id": "61003bc4",
   "metadata": {},
   "outputs": [
    {
     "data": {
      "text/plain": [
       "Tension: [[6.42154379e-01 9.06904879e-01 4.60321780e-01 3.75142497e-01\n",
       "  2.87176421e-01 9.30745937e-01 9.19465436e-01 3.86135541e-02\n",
       "  2.36483761e-02 6.57634263e-01]\n",
       " [8.38925745e-01 2.11882627e-02 9.73387422e-01 9.22175500e-01\n",
       "  3.78853311e-01 1.84601529e-01 9.57989036e-01 7.22103861e-01\n",
       "  8.86359303e-02 6.09420874e-01]\n",
       " [6.80058046e-01 9.89473339e-01 9.05863882e-01 9.25590015e-01\n",
       "  7.86329304e-01 8.99443136e-01 5.17677766e-01 1.93222836e-02\n",
       "  3.49791995e-02 5.91986335e-02]\n",
       " [2.50152138e-01 7.79703705e-01 8.46412834e-01 8.07267237e-02\n",
       "  4.56643254e-01 6.13570937e-01 9.42066921e-01 4.81804516e-07\n",
       "  1.37906125e-01 6.37468185e-02]\n",
       " [8.55863112e-02 3.65878565e-01 5.93892794e-01 1.88817529e-01\n",
       "  8.04504954e-01 7.87207525e-01 7.93723687e-01 4.88814340e-01\n",
       "  8.65347354e-01 8.97234244e-01]\n",
       " [6.96545148e-01 3.06426422e-01 6.38724751e-01 1.98631943e-01\n",
       "  4.31907275e-01 7.59314085e-01 6.35579933e-01 7.88853253e-01\n",
       "  2.84077320e-01 7.77873518e-01]\n",
       " [8.43883784e-01 3.80211443e-01 5.56203378e-01 2.44506831e-01\n",
       "  5.26542168e-03 4.84449544e-01 6.77919400e-01 3.62850532e-01\n",
       "  2.30962110e-01 1.63861576e-01]\n",
       " [7.59933710e-01 7.20587387e-01 1.67962151e-01 2.75621319e-01\n",
       "  9.10018332e-01 6.02350798e-01 8.02079997e-01 1.23717938e-01\n",
       "  9.60663408e-01 3.60092636e-01]\n",
       " [5.60080720e-01 3.96609569e-01 2.29230164e-02 2.38705770e-01\n",
       "  4.72079938e-01 2.40245549e-01 5.64872601e-01 6.42170341e-01\n",
       "  6.47027113e-01 9.48233261e-01]\n",
       " [3.76952350e-01 7.63647695e-01 9.97703048e-01 2.32540356e-01\n",
       "  7.21757075e-01 8.36664762e-01 3.90134947e-01 1.12569855e-01\n",
       "  6.54059051e-01 6.20436886e-01]]"
      ]
     },
     "execution_count": 13,
     "metadata": {},
     "output_type": "execute_result"
    }
   ],
   "source": [
    "a"
   ]
  },
  {
   "cell_type": "code",
   "execution_count": null,
   "id": "bca54e9a",
   "metadata": {},
   "outputs": [],
   "source": []
  },
  {
   "cell_type": "code",
   "execution_count": null,
   "id": "3aedd3c6",
   "metadata": {},
   "outputs": [],
   "source": []
  },
  {
   "cell_type": "code",
   "execution_count": null,
   "id": "d9bd99e0",
   "metadata": {},
   "outputs": [],
   "source": []
  },
  {
   "cell_type": "code",
   "execution_count": null,
   "id": "790a1a66",
   "metadata": {},
   "outputs": [],
   "source": []
  },
  {
   "cell_type": "code",
   "execution_count": 14,
   "id": "245af1db",
   "metadata": {},
   "outputs": [],
   "source": [
    "c = tf.Softmax(a, dim=1)\n",
    "c.sum(None).backward()\n",
    "a1 = torch.tensor(a.value, requires_grad=True)\n",
    "c1 = torch.nn.functional.softmax(a1, dim=1)\n",
    "c1.sum().backward()"
   ]
  },
  {
   "cell_type": "code",
   "execution_count": 17,
   "id": "183a72d2",
   "metadata": {},
   "outputs": [
    {
     "data": {
      "text/plain": [
       "array([[1., 1., 1., 1., 1., 1., 1., 1., 1., 1.],\n",
       "       [1., 1., 1., 1., 1., 1., 1., 1., 1., 1.],\n",
       "       [1., 1., 1., 1., 1., 1., 1., 1., 1., 1.],\n",
       "       [1., 1., 1., 1., 1., 1., 1., 1., 1., 1.],\n",
       "       [1., 1., 1., 1., 1., 1., 1., 1., 1., 1.],\n",
       "       [1., 1., 1., 1., 1., 1., 1., 1., 1., 1.],\n",
       "       [1., 1., 1., 1., 1., 1., 1., 1., 1., 1.],\n",
       "       [1., 1., 1., 1., 1., 1., 1., 1., 1., 1.],\n",
       "       [1., 1., 1., 1., 1., 1., 1., 1., 1., 1.],\n",
       "       [1., 1., 1., 1., 1., 1., 1., 1., 1., 1.]])"
      ]
     },
     "execution_count": 17,
     "metadata": {},
     "output_type": "execute_result"
    }
   ],
   "source": [
    "c.grad"
   ]
  },
  {
   "cell_type": "code",
   "execution_count": 18,
   "id": "81e155d7",
   "metadata": {},
   "outputs": [
    {
     "name": "stderr",
     "output_type": "stream",
     "text": [
      "<ipython-input-18-c4c5a14c1719>:1: UserWarning: The .grad attribute of a Tensor that is not a leaf Tensor is being accessed. Its .grad attribute won't be populated during autograd.backward(). If you indeed want the .grad field to be populated for a non-leaf Tensor, use .retain_grad() on the non-leaf Tensor. If you access the non-leaf Tensor by mistake, make sure you access the leaf Tensor instead. See github.com/pytorch/pytorch/pull/30531 for more informations. (Triggered internally at aten/src/ATen/core/TensorBody.h:486.)\n",
      "  c1.grad\n"
     ]
    }
   ],
   "source": [
    "c1.grad"
   ]
  },
  {
   "cell_type": "code",
   "execution_count": null,
   "id": "084ff0a2",
   "metadata": {},
   "outputs": [],
   "source": []
  }
 ],
 "metadata": {
  "kernelspec": {
   "display_name": "Python 3",
   "language": "python",
   "name": "python3"
  },
  "language_info": {
   "codemirror_mode": {
    "name": "ipython",
    "version": 3
   },
   "file_extension": ".py",
   "mimetype": "text/x-python",
   "name": "python",
   "nbconvert_exporter": "python",
   "pygments_lexer": "ipython3",
   "version": "3.8.10"
  }
 },
 "nbformat": 4,
 "nbformat_minor": 5
}
