{
 "cells": [
  {
   "cell_type": "code",
   "execution_count": 1,
   "id": "ec472c79",
   "metadata": {},
   "outputs": [],
   "source": [
    "import TensionFlow as tf\n",
    "import numpy as np\n",
    "import random"
   ]
  },
  {
   "cell_type": "code",
   "execution_count": 2,
   "id": "8e5a0b12",
   "metadata": {},
   "outputs": [],
   "source": [
    "#the cell states should be a member of the LSTM class\n",
    "class LSTM:\n",
    "    def __init__(self, f_in, h_dim):\n",
    "        self.forget_layer = tf.LinearLayer(f_in+h_dim, h_dim, bias=False)\n",
    "        self.update_layer = tf.LinearLayer(f_in+h_dim, h_dim, bias=False)\n",
    "        self.candidate_layer = tf.LinearLayer(f_in+h_dim, h_dim, bias=False)\n",
    "        self.output_layer = tf.LinearLayer(f_in+h_dim, h_dim, bias=False)\n",
    "        \n",
    "        self.f_in = f_in\n",
    "        self.h_dim = h_dim\n",
    "        \n",
    "    def forward(self, x, h_tm1, c_tm1):\n",
    "        x = tf.concatenate(x,h_tm1)\n",
    "        forget = self.forget_layer.forward(x)\n",
    "        forget = tf.Sigmoid(forget)\n",
    "        c_t = c_tm1 * forget\n",
    "        update = tf.Sigmoid(self.update_layer.forward(x))\n",
    "        candidate = tf.Tanh(self.candidate_layer.forward(x))\n",
    "        c_t += update * candidate\n",
    "        output = tf.Sigmoid(self.output_layer.forward(x))\n",
    "        h_t = tf.Tanh(c_t) * output\n",
    "        return h_t, c_t"
   ]
  },
  {
   "cell_type": "code",
   "execution_count": 3,
   "id": "9354ac73",
   "metadata": {},
   "outputs": [],
   "source": [
    "lstm = LSTM(10,20)"
   ]
  },
  {
   "cell_type": "code",
   "execution_count": 4,
   "id": "aa0a271b",
   "metadata": {},
   "outputs": [],
   "source": [
    "x = tf.Neuron(np.random.randn(5,10))\n",
    "h_0 = tf.Neuron(np.random.randn(5,20))\n",
    "c_0 = tf.Neuron(np.random.randn(5,20))\n",
    "h_1, c_1 = lstm.forward(x,h_0,c_0)"
   ]
  },
  {
   "cell_type": "code",
   "execution_count": 5,
   "id": "9749c941",
   "metadata": {
    "scrolled": true
   },
   "outputs": [
    {
     "data": {
      "text/plain": [
       "'lstm.pdf'"
      ]
     },
     "execution_count": 5,
     "metadata": {},
     "output_type": "execute_result"
    }
   ],
   "source": [
    "h_1.make_graph().render('lstm')"
   ]
  },
  {
   "cell_type": "code",
   "execution_count": null,
   "id": "8af6d028",
   "metadata": {},
   "outputs": [],
   "source": [
    "names = open('names.txt', 'r').readlines()"
   ]
  },
  {
   "cell_type": "code",
   "execution_count": null,
   "id": "61dffb49",
   "metadata": {},
   "outputs": [],
   "source": [
    "random.shuffle(names)"
   ]
  },
  {
   "cell_type": "code",
   "execution_count": null,
   "id": "9eed5dae",
   "metadata": {},
   "outputs": [],
   "source": []
  },
  {
   "cell_type": "code",
   "execution_count": null,
   "id": "d98768be",
   "metadata": {},
   "outputs": [],
   "source": []
  },
  {
   "cell_type": "code",
   "execution_count": null,
   "id": "f883cc60",
   "metadata": {},
   "outputs": [],
   "source": []
  }
 ],
 "metadata": {
  "kernelspec": {
   "display_name": "Python 3",
   "language": "python",
   "name": "python3"
  },
  "language_info": {
   "codemirror_mode": {
    "name": "ipython",
    "version": 3
   },
   "file_extension": ".py",
   "mimetype": "text/x-python",
   "name": "python",
   "nbconvert_exporter": "python",
   "pygments_lexer": "ipython3",
   "version": "3.8.10"
  }
 },
 "nbformat": 4,
 "nbformat_minor": 5
}
