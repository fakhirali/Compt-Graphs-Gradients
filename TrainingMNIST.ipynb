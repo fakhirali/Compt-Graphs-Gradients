{
 "cells": [
  {
   "cell_type": "code",
   "execution_count": 196,
   "metadata": {},
   "outputs": [],
   "source": [
    "import torchvision\n",
    "import numpy as np\n",
    "import TensionFlow as tf\n",
    "import matplotlib.pyplot as plt\n",
    "import time\n",
    "from tqdm import tqdm\n",
    "import torch\n",
    "import random\n",
    "import math"
   ]
  },
  {
   "cell_type": "code",
   "execution_count": 2,
   "metadata": {},
   "outputs": [],
   "source": [
    "train_data = torchvision.datasets.MNIST('data/', train=True)\n",
    "test_data = torchvision.datasets.MNIST('data/', train=False)"
   ]
  },
  {
   "cell_type": "code",
   "execution_count": 3,
   "metadata": {},
   "outputs": [
    {
     "data": {
      "text/plain": [
       "(Dataset MNIST\n",
       "     Number of datapoints: 60000\n",
       "     Root location: data/\n",
       "     Split: Train,\n",
       " Dataset MNIST\n",
       "     Number of datapoints: 10000\n",
       "     Root location: data/\n",
       "     Split: Test)"
      ]
     },
     "execution_count": 3,
     "metadata": {},
     "output_type": "execute_result"
    }
   ],
   "source": [
    "train_data, test_data"
   ]
  },
  {
   "cell_type": "code",
   "execution_count": 4,
   "metadata": {},
   "outputs": [],
   "source": [
    "def one_hot(x, classes=10):\n",
    "    a = np.zeros((len(x), classes))\n",
    "    for i in range(len(x)):\n",
    "        a[i][x[i]] = 1\n",
    "    return a"
   ]
  },
  {
   "cell_type": "markdown",
   "metadata": {},
   "source": [
    "**TensionFlow**"
   ]
  },
  {
   "cell_type": "code",
   "execution_count": 5,
   "metadata": {},
   "outputs": [],
   "source": [
    "f_in = 28*28\n",
    "f_out = 10\n",
    "h_layer = tf.Neuron(np.random.uniform(low=-np.sqrt(1/f_in), high=np.sqrt(1/f_in), size=(f_in, f_out)))\n",
    "b_layer = tf.Neuron(np.random.uniform(low=-np.sqrt(1/f_in), high=np.sqrt(1/f_in), size=(1 , f_out)))"
   ]
  },
  {
   "cell_type": "code",
   "execution_count": 6,
   "metadata": {},
   "outputs": [],
   "source": [
    "i = 0\n",
    "batch_size = 64"
   ]
  },
  {
   "cell_type": "code",
   "execution_count": 7,
   "metadata": {},
   "outputs": [],
   "source": [
    "inp = train_data.data[i:i+batch_size].reshape(batch_size,28*28) / 255\n",
    "label = train_data.targets[i:i+batch_size]    \n",
    "out = (tf.Neuron(inp.numpy()) @ h_layer) + (tf.Neuron(np.ones((batch_size,1))) @ b_layer)\n",
    "# print(out.shape())\n",
    "# out.backward()\n",
    "e = out.exp()\n",
    "# # e.backward()\n",
    "e_s = e.sum(1)\n",
    "# print(e.shape())\n",
    "out_soft = e / (e_s @ tf.Neuron(np.ones((1,10))))\n",
    "# print(out_soft.shape())\n",
    "# out_soft.backward()\n",
    "# print(out_soft.value.shape)\n",
    "\n",
    "# oh_label = tf.Neuron(one_hot(label.numpy()))\n",
    "\n",
    "# loss = -(out_soft * oh_label).sum().log().sum(0)\n",
    "# loss.backward()"
   ]
  },
  {
   "cell_type": "code",
   "execution_count": 8,
   "metadata": {},
   "outputs": [],
   "source": [
    "#defining model\n",
    "f_in = 28*28\n",
    "f_out = 10\n",
    "h_layer = tf.Neuron(np.random.uniform(low=-np.sqrt(1/f_in), high=np.sqrt(1/f_in), size=(f_in, f_out)))\n",
    "b_layer = tf.Neuron(np.random.uniform(low=-np.sqrt(1/f_in), high=np.sqrt(1/f_in), size=(1 , f_out)))"
   ]
  },
  {
   "cell_type": "code",
   "execution_count": 9,
   "metadata": {},
   "outputs": [],
   "source": [
    "lr = 1e-6"
   ]
  },
  {
   "cell_type": "code",
   "execution_count": 10,
   "metadata": {},
   "outputs": [],
   "source": [
    "lossi = []\n",
    "test_lossi = []"
   ]
  },
  {
   "cell_type": "code",
   "execution_count": 11,
   "metadata": {},
   "outputs": [],
   "source": [
    "epochs = 10"
   ]
  },
  {
   "cell_type": "code",
   "execution_count": 12,
   "metadata": {},
   "outputs": [],
   "source": [
    "batch_size = 256"
   ]
  },
  {
   "cell_type": "code",
   "execution_count": 13,
   "metadata": {
    "scrolled": true
   },
   "outputs": [
    {
     "name": "stderr",
     "output_type": "stream",
     "text": [
      "100%|█████████████████████████████████████████████████████████████████████████████████████████████████████████| 10/10 [02:07<00:00, 12.71s/it]\n"
     ]
    }
   ],
   "source": [
    "for e in tqdm(range(epochs)):\n",
    "    for i in range(0,len(train_data), batch_size):\n",
    "#         print(train_data.data[i:i+batch_size].shape)\n",
    "        current_batch_size = train_data.data[i:i+batch_size].shape[0]\n",
    "        inp = train_data.data[i:i+batch_size].reshape(current_batch_size,28*28) / 255\n",
    "        label = train_data.targets[i:i+batch_size]    \n",
    "        \n",
    "        out = (tf.Neuron(inp.numpy()) @ h_layer) + (tf.Neuron(np.ones((current_batch_size,1))) @ b_layer)\n",
    "        e = out.exp()\n",
    "        e_s = e.sum(1)\n",
    "        out_soft = e / (e_s @ tf.Neuron(np.ones((1,10))))\n",
    "        \n",
    "        oh_label = tf.Neuron(one_hot(label.numpy()))\n",
    "        \n",
    "        loss = -(out_soft * oh_label).sum().log().sum(0)\n",
    "        loss.backward()\n",
    "        h_layer.value -= h_layer.grad * lr\n",
    "        b_layer.value -= b_layer.grad.sum(0) * lr\n",
    "        lossi.append(loss.value[0][0])\n",
    "        loss.backward_zero_grad()\n",
    "#         print(loss)\n",
    "    \n",
    "    for i in range(0,len(test_data), batch_size):\n",
    "        current_batch_size = test_data.data[i:i+batch_size].shape[0]\n",
    "        \n",
    "        inp = test_data.data[i:i+batch_size].reshape(current_batch_size,28*28) / 255\n",
    "        label = test_data.targets[i:i+batch_size]    \n",
    "        \n",
    "        out = (tf.Neuron(inp.numpy()) @ h_layer) + (tf.Neuron(np.ones((current_batch_size,1))) @ b_layer)\n",
    "        e = out.exp()\n",
    "        e_s = e.sum(1)\n",
    "        out_soft = e / (e_s @ tf.Neuron(np.ones((1,10))))\n",
    "        oh_label = tf.Neuron(one_hot(label.numpy()))\n",
    "        loss = -(out_soft * oh_label).sum().log().sum(0)\n",
    "        test_lossi.append(loss.value[0][0])"
   ]
  },
  {
   "cell_type": "code",
   "execution_count": 35,
   "metadata": {},
   "outputs": [
    {
     "data": {
      "text/plain": [
       "400"
      ]
     },
     "execution_count": 35,
     "metadata": {},
     "output_type": "execute_result"
    }
   ],
   "source": [
    "len(test_lossi)"
   ]
  },
  {
   "cell_type": "code",
   "execution_count": 40,
   "metadata": {},
   "outputs": [
    {
     "data": {
      "text/plain": [
       "5.875"
      ]
     },
     "execution_count": 40,
     "metadata": {},
     "output_type": "execute_result"
    }
   ],
   "source": [
    "len(lossi) / len(test_lossi)"
   ]
  },
  {
   "cell_type": "code",
   "execution_count": 38,
   "metadata": {},
   "outputs": [
    {
     "data": {
      "text/plain": [
       "400"
      ]
     },
     "execution_count": 38,
     "metadata": {},
     "output_type": "execute_result"
    }
   ],
   "source": [
    "len(test_lossi)"
   ]
  },
  {
   "cell_type": "code",
   "execution_count": 39,
   "metadata": {},
   "outputs": [
    {
     "data": {
      "text/plain": [
       "470.0"
      ]
     },
     "execution_count": 39,
     "metadata": {},
     "output_type": "execute_result"
    }
   ],
   "source": [
    "len(lossi) / 5"
   ]
  },
  {
   "cell_type": "code",
   "execution_count": 187,
   "metadata": {},
   "outputs": [
    {
     "data": {
      "text/plain": [
       "400"
      ]
     },
     "execution_count": 187,
     "metadata": {},
     "output_type": "execute_result"
    }
   ],
   "source": [
    "len(test_lossi)"
   ]
  },
  {
   "cell_type": "code",
   "execution_count": 195,
   "metadata": {},
   "outputs": [
    {
     "data": {
      "text/plain": [
       "470"
      ]
     },
     "execution_count": 195,
     "metadata": {},
     "output_type": "execute_result"
    }
   ],
   "source": [
    "len(x)"
   ]
  },
  {
   "cell_type": "code",
   "execution_count": 199,
   "metadata": {},
   "outputs": [
    {
     "data": {
      "text/plain": [
       "2346"
      ]
     },
     "execution_count": 199,
     "metadata": {},
     "output_type": "execute_result"
    }
   ],
   "source": [
    "x[-1]"
   ]
  },
  {
   "cell_type": "code",
   "execution_count": 200,
   "metadata": {
    "scrolled": false
   },
   "outputs": [
    {
     "data": {
      "image/png": "[encoded data removed]",
      "text/plain": [
       "<Figure size 640x480 with 1 Axes>"
      ]
     },
     "metadata": {},
     "output_type": "display_data"
    }
   ],
   "source": [
    "plt.plot(lossi[:])\n",
    "x = list(range(0,len(lossi), math.ceil(len(lossi)/len(test_lossi))))\n",
    "plt.plot(x, test_lossi[:len(x)])\n",
    "plt.xlabel('steps')\n",
    "plt.ylabel('loss')\n",
    "plt.legend(['train', 'test'])\n",
    "plt.show()"
   ]
  },
  {
   "cell_type": "code",
   "execution_count": 189,
   "metadata": {},
   "outputs": [],
   "source": [
    "#accuracy\n",
    "correct = 0\n",
    "for i in range(0,len(test_data)//batch_size):\n",
    "    current_batch_size = test_data.data[i:i+batch_size].shape[0]\n",
    "    inp = test_data.data[i:i+batch_size].reshape(current_batch_size,28*28) / 255\n",
    "    label = test_data.targets[i:i+batch_size]    \n",
    "\n",
    "    out = (tf.Neuron(inp.numpy()) @ h_layer) + (tf.Neuron(np.ones((current_batch_size,1))) @ b_layer)\n",
    "    e = out.exp()\n",
    "    e_s = e.sum(1)\n",
    "    out_soft = e / (e_s @ tf.Neuron(np.ones((1,10))))\n",
    "    correct += (out_soft.argmax(1) == label.numpy()).sum()\n",
    "#     loss = -(out_soft * oh_label).sum().log().sum(0)\n",
    "#     test_lossi.append(loss.value[0][0])"
   ]
  },
  {
   "cell_type": "code",
   "execution_count": 17,
   "metadata": {},
   "outputs": [
    {
     "data": {
      "text/plain": [
       "0.8114"
      ]
     },
     "execution_count": 17,
     "metadata": {},
     "output_type": "execute_result"
    }
   ],
   "source": [
    "correct/ len(test_data)"
   ]
  },
  {
   "cell_type": "code",
   "execution_count": 31,
   "metadata": {},
   "outputs": [],
   "source": [
    "#accuracy\n",
    "correct = 0\n",
    "for i in range(0,len(train_data)//batch_size):\n",
    "    current_batch_size = train_data.data[i:i+batch_size].shape[0]\n",
    "    inp = train_data.data[i:i+batch_size].reshape(current_batch_size,28*28) / 255\n",
    "    label = train_data.targets[i:i+batch_size]    \n",
    "\n",
    "    out = (tf.Neuron(inp.numpy()) @ h_layer) + (tf.Neuron(np.ones((current_batch_size,1))) @ b_layer)\n",
    "    e = out.exp()\n",
    "    e_s = e.sum(1)\n",
    "    out_soft = e / (e_s @ tf.Neuron(np.ones((1,10))))\n",
    "    correct += (out_soft.argmax(1) == label.numpy()).sum()\n",
    "#     loss = -(out_soft * oh_label).sum().log().sum(0)\n",
    "#     test_lossi.append(loss.value[0][0])"
   ]
  },
  {
   "cell_type": "code",
   "execution_count": 33,
   "metadata": {},
   "outputs": [
    {
     "data": {
      "text/plain": [
       "0.8443833333333334"
      ]
     },
     "execution_count": 33,
     "metadata": {},
     "output_type": "execute_result"
    }
   ],
   "source": [
    "correct/ len(train_data)"
   ]
  },
  {
   "cell_type": "code",
   "execution_count": 159,
   "metadata": {},
   "outputs": [
    {
     "name": "stdout",
     "output_type": "stream",
     "text": [
      "Pred: 1 grad: None, label: 1\n"
     ]
    },
    {
     "data": {
      "text/plain": [
       "<matplotlib.image.AxesImage at 0x7fe4117e55d0>"
      ]
     },
     "execution_count": 159,
     "metadata": {},
     "output_type": "execute_result"
    },
    {
     "data": {
      "image/png": "[encoded data removed]",
      "text/plain": [
       "<Figure size 640x480 with 1 Axes>"
      ]
     },
     "metadata": {},
     "output_type": "display_data"
    }
   ],
   "source": [
    "i = random.randint(0,len(test_data))\n",
    "#inference\n",
    "inp = test_data.data[i].reshape(1,28*28) / 255\n",
    "label = test_data.targets[i]    \n",
    "\n",
    "out = (tf.Neuron(inp.numpy()) @ h_layer) + (tf.Neuron(np.ones((1,1))) @ b_layer)\n",
    "e = out.exp()\n",
    "e_s = e.sum(1)\n",
    "out_soft = e / (e_s @ tf.Neuron(np.ones((1,10))))\n",
    "print(f'Pred: {out_soft.argmax()}, label: {label}')\n",
    "plt.imshow(test_data.data[i])\n"
   ]
  },
  {
   "cell_type": "code",
   "execution_count": null,
   "metadata": {},
   "outputs": [],
   "source": []
  },
  {
   "cell_type": "code",
   "execution_count": null,
   "metadata": {},
   "outputs": [],
   "source": []
  }
 ],
 "metadata": {
  "kernelspec": {
   "display_name": "Python 3 (ipykernel)",
   "language": "python",
   "name": "python3"
  },
  "language_info": {
   "codemirror_mode": {
    "name": "ipython",
    "version": 3
   },
   "file_extension": ".py",
   "mimetype": "text/x-python",
   "name": "python",
   "nbconvert_exporter": "python",
   "pygments_lexer": "ipython3",
   "version": "3.10.6"
  },
  "vscode": {
   "interpreter": {
    "hash": "e7370f93d1d0cde622a1f8e1c04877d8463912d04d973331ad4851f04de6915a"
   }
  }
 },
 "nbformat": 4,
 "nbformat_minor": 4
}
