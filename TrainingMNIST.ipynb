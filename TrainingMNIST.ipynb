{
 "cells": [
  {
   "cell_type": "code",
   "execution_count": 1,
   "metadata": {},
   "outputs": [],
   "source": [
    "import torchvision\n",
    "import numpy as np\n",
    "import TensionFlow as tf\n",
    "import matplotlib.pyplot as plt\n",
    "import time\n",
    "from tqdm import tqdm\n",
    "import torch\n",
    "import random\n",
    "import math\n",
    "import importlib"
   ]
  },
  {
   "cell_type": "code",
   "execution_count": 2,
   "metadata": {},
   "outputs": [
    {
     "data": {
      "text/plain": [
       "<module 'TensionFlow' from '/media/fakhir/SSD/AIExp/AutoGrad/TensionFlow/TensionFlow.py'>"
      ]
     },
     "execution_count": 2,
     "metadata": {},
     "output_type": "execute_result"
    }
   ],
   "source": [
    "importlib.reload(tf)"
   ]
  },
  {
   "cell_type": "code",
   "execution_count": 3,
   "metadata": {},
   "outputs": [],
   "source": [
    "train_data = torchvision.datasets.MNIST('data/', train=True)\n",
    "test_data = torchvision.datasets.MNIST('data/', train=False)"
   ]
  },
  {
   "cell_type": "code",
   "execution_count": 4,
   "metadata": {},
   "outputs": [
    {
     "data": {
      "text/plain": [
       "(Dataset MNIST\n",
       "     Number of datapoints: 60000\n",
       "     Root location: data/\n",
       "     Split: Train,\n",
       " Dataset MNIST\n",
       "     Number of datapoints: 10000\n",
       "     Root location: data/\n",
       "     Split: Test)"
      ]
     },
     "execution_count": 4,
     "metadata": {},
     "output_type": "execute_result"
    }
   ],
   "source": [
    "train_data, test_data"
   ]
  },
  {
   "cell_type": "markdown",
   "metadata": {},
   "source": [
    "**Forward Pass**"
   ]
  },
  {
   "cell_type": "code",
   "execution_count": 5,
   "metadata": {},
   "outputs": [],
   "source": [
    "#defining model\n",
    "f_in = 28*28\n",
    "f_out = 10\n",
    "\n",
    "# h_layer,b_layer = tf.LinearLayer(f_in, f_out)\n",
    "# b_layer = tf.LinearLayer(1, f_out)"
   ]
  },
  {
   "cell_type": "code",
   "execution_count": 35,
   "metadata": {},
   "outputs": [],
   "source": [
    "class Model:\n",
    "    def __init__(self,n_layers,h_dim,f_in,f_out):\n",
    "        self.in_w, self.in_b = tf.LinearLayer(f_in,h_dim)\n",
    "        self.out_w, self.out_b = tf.LinearLayer(h_dim, f_out)\n",
    "        self.layers = []\n",
    "        self.biases = []\n",
    "        for i in range(n_layers):\n",
    "            w,b = tf.LinearLayer(h_dim,h_dim)\n",
    "            self.layers.append(w)\n",
    "            self.biases.append(b)\n",
    "            \n",
    "    \n",
    "    def __call__(self, x):\n",
    "        x = x @ self.in_w + self.in_b.broadcast(x.shape()[0])\n",
    "        x = tf.ReLU(x)\n",
    "        for w,b in zip(self.layers,self.biases):\n",
    "            x = x @ w + b.broadcast(x.shape()[0])\n",
    "            x = tf.ReLU(x)\n",
    "        x = x @ self.out_w + self.out_b.broadcast(x.shape()[0])\n",
    "        x = tf.Softmax(x)\n",
    "        return x\n",
    "\n",
    "    def update(self, lr):\n",
    "        print(self.in_w.grad.sum())\n",
    "        self.in_w -= self.in_w.grad * lr\n",
    "        self.out_w -= self.out_w.grad * lr    \n",
    "        self.out_b -= self.out_b.grad * lr    \n",
    "        self.in_b -= self.in_b.grad * lr\n",
    "        \n",
    "        for w,b in zip(self.layers, self.biases):\n",
    "            w -= w.grad * lr    \n",
    "            b -= b.grad * lr                "
   ]
  },
  {
   "cell_type": "code",
   "execution_count": 42,
   "metadata": {},
   "outputs": [],
   "source": [
    "lr = 1e-10"
   ]
  },
  {
   "cell_type": "code",
   "execution_count": 43,
   "metadata": {},
   "outputs": [],
   "source": [
    "lossi = []\n",
    "test_lossi = []"
   ]
  },
  {
   "cell_type": "code",
   "execution_count": 44,
   "metadata": {},
   "outputs": [],
   "source": [
    "epochs = 1"
   ]
  },
  {
   "cell_type": "code",
   "execution_count": 45,
   "metadata": {},
   "outputs": [],
   "source": [
    "batch_size = 1024"
   ]
  },
  {
   "cell_type": "code",
   "execution_count": 73,
   "metadata": {},
   "outputs": [],
   "source": [
    "model = Model(0,50,f_in,f_out)"
   ]
  },
  {
   "cell_type": "code",
   "execution_count": 74,
   "metadata": {
    "scrolled": true
   },
   "outputs": [
    {
     "name": "stderr",
     "output_type": "stream",
     "text": [
      "2350.99652117841:   5%|▌         | 3/59 [00:00<00:02, 22.32it/s] "
     ]
    },
    {
     "name": "stdout",
     "output_type": "stream",
     "text": [
      "123708.47762636599\n",
      "694144.0510072942\n",
      "1620061.5741272569\n",
      "8038710.157828562\n"
     ]
    },
    {
     "name": "stderr",
     "output_type": "stream",
     "text": [
      "2349.5481894562017:  14%|█▎        | 8/59 [00:00<00:02, 18.42it/s]"
     ]
    },
    {
     "name": "stdout",
     "output_type": "stream",
     "text": [
      "37845066.918154605\n",
      "62295397.641501434\n",
      "147633958.30964947\n",
      "1713421003.5603473\n"
     ]
    },
    {
     "name": "stderr",
     "output_type": "stream",
     "text": [
      "2265.786892722658:  20%|██        | 12/59 [00:00<00:02, 16.20it/s] "
     ]
    },
    {
     "name": "stdout",
     "output_type": "stream",
     "text": [
      "-14355372881.916246\n",
      "-225319168745.51923\n",
      "-2098121914102.8323\n",
      "-9929329472230.373\n"
     ]
    },
    {
     "name": "stderr",
     "output_type": "stream",
     "text": [
      "/media/fakhir/SSD/AIExp/AutoGrad/TensionFlow/TensionFlow.py:175: RuntimeWarning: overflow encountered in exp\n",
      "  new_neuron = Neuron(np.exp(self.value))\n",
      "/media/fakhir/SSD/AIExp/AutoGrad/TensionFlow/TensionFlow.py:176: RuntimeWarning: overflow encountered in exp\n",
      "  temp = np.exp(self.value)\n",
      "/media/fakhir/SSD/AIExp/AutoGrad/TensionFlow/TensionFlow.py:146: RuntimeWarning: overflow encountered in square\n",
      "  temp = -1/(self.value**2)\n",
      "/media/fakhir/SSD/AIExp/AutoGrad/TensionFlow/TensionFlow.py:41: RuntimeWarning: invalid value encountered in multiply\n",
      "  new_val = self.value * other_neuron.value\n",
      "/media/fakhir/SSD/AIExp/AutoGrad/TensionFlow/TensionFlow.py:42: RuntimeWarning: invalid value encountered in multiply\n",
      "  new_neuron = Neuron(self.value * other_neuron.value)\n",
      "/media/fakhir/SSD/AIExp/AutoGrad/TensionFlow/TensionFlow.py:161: RuntimeWarning: divide by zero encountered in log\n",
      "  new_val = np.log(self.value)\n",
      "/media/fakhir/SSD/AIExp/AutoGrad/TensionFlow/TensionFlow.py:163: UserWarning: inf in log, replacing with zero\n",
      "  warnings.warn(\"inf in log, replacing with zero\")\n",
      "/media/fakhir/SSD/AIExp/AutoGrad/TensionFlow/TensionFlow.py:167: RuntimeWarning: divide by zero encountered in true_divide\n",
      "  temp = 1/self.value\n",
      "/media/fakhir/SSD/AIExp/AutoGrad/TensionFlow/TensionFlow.py:47: RuntimeWarning: invalid value encountered in multiply\n",
      "  new_neuron._local_backwards.append(lambda x: x*t1)\n",
      "/media/fakhir/SSD/AIExp/AutoGrad/TensionFlow/TensionFlow.py:48: RuntimeWarning: invalid value encountered in multiply\n",
      "  new_neuron._local_backwards.append(lambda x: x*t2)\n",
      "/media/fakhir/SSD/AIExp/AutoGrad/TensionFlow/TensionFlow.py:148: RuntimeWarning: invalid value encountered in multiply\n",
      "  new_neuron._local_backwards.append(lambda x: x * temp)\n",
      "nan:  32%|███▏      | 19/59 [00:00<00:01, 23.60it/s]              "
     ]
    },
    {
     "name": "stdout",
     "output_type": "stream",
     "text": [
      "nan\n",
      "nan\n",
      "nan\n",
      "nan\n",
      "nan\n",
      "nan\n",
      "nan\n",
      "nan\n"
     ]
    },
    {
     "name": "stderr",
     "output_type": "stream",
     "text": [
      "nan:  37%|███▋      | 22/59 [00:01<00:01, 24.39it/s]"
     ]
    },
    {
     "name": "stdout",
     "output_type": "stream",
     "text": [
      "nan\n",
      "nan\n",
      "nan\n",
      "nan\n"
     ]
    },
    {
     "name": "stderr",
     "output_type": "stream",
     "text": [
      "nan:  42%|████▏     | 25/59 [00:01<00:01, 20.65it/s]"
     ]
    },
    {
     "name": "stdout",
     "output_type": "stream",
     "text": [
      "nan\n",
      "nan\n",
      "nan\n"
     ]
    },
    {
     "name": "stderr",
     "output_type": "stream",
     "text": [
      "nan:  51%|█████     | 30/59 [00:01<00:01, 17.49it/s]"
     ]
    },
    {
     "name": "stdout",
     "output_type": "stream",
     "text": [
      "nan\n",
      "nan\n",
      "nan\n"
     ]
    },
    {
     "name": "stderr",
     "output_type": "stream",
     "text": [
      "nan:  58%|█████▊    | 34/59 [00:01<00:01, 16.36it/s]"
     ]
    },
    {
     "name": "stdout",
     "output_type": "stream",
     "text": [
      "nan\n",
      "nan\n",
      "nan\n",
      "nan\n"
     ]
    },
    {
     "name": "stderr",
     "output_type": "stream",
     "text": [
      "nan:  61%|██████    | 36/59 [00:02<00:01, 15.99it/s]"
     ]
    },
    {
     "name": "stdout",
     "output_type": "stream",
     "text": [
      "nan\n",
      "nan\n",
      "nan\n"
     ]
    },
    {
     "name": "stderr",
     "output_type": "stream",
     "text": [
      "nan:  68%|██████▊   | 40/59 [00:02<00:01, 14.81it/s]"
     ]
    },
    {
     "name": "stdout",
     "output_type": "stream",
     "text": [
      "nan\n",
      "nan\n",
      "nan\n"
     ]
    },
    {
     "name": "stderr",
     "output_type": "stream",
     "text": [
      "nan:  71%|███████   | 42/59 [00:02<00:01, 14.68it/s]"
     ]
    },
    {
     "name": "stdout",
     "output_type": "stream",
     "text": [
      "nan\n",
      "nan\n",
      "nan\n"
     ]
    },
    {
     "name": "stderr",
     "output_type": "stream",
     "text": [
      "nan:  78%|███████▊  | 46/59 [00:02<00:00, 14.24it/s]"
     ]
    },
    {
     "name": "stdout",
     "output_type": "stream",
     "text": [
      "nan\n",
      "nan\n",
      "nan\n"
     ]
    },
    {
     "name": "stderr",
     "output_type": "stream",
     "text": [
      "nan:  81%|████████▏ | 48/59 [00:02<00:00, 13.88it/s]"
     ]
    },
    {
     "name": "stdout",
     "output_type": "stream",
     "text": [
      "nan\n",
      "nan\n",
      "nan\n"
     ]
    },
    {
     "name": "stderr",
     "output_type": "stream",
     "text": [
      "nan:  88%|████████▊ | 52/59 [00:03<00:00, 13.15it/s]"
     ]
    },
    {
     "name": "stdout",
     "output_type": "stream",
     "text": [
      "nan\n",
      "nan\n",
      "nan\n"
     ]
    },
    {
     "name": "stderr",
     "output_type": "stream",
     "text": [
      "nan:  92%|█████████▏| 54/59 [00:03<00:00, 12.74it/s]"
     ]
    },
    {
     "name": "stdout",
     "output_type": "stream",
     "text": [
      "nan\n",
      "nan\n",
      "nan\n"
     ]
    },
    {
     "name": "stderr",
     "output_type": "stream",
     "text": [
      "nan:  98%|█████████▊| 58/59 [00:03<00:00, 13.04it/s]"
     ]
    },
    {
     "name": "stdout",
     "output_type": "stream",
     "text": [
      "nan\n",
      "nan\n",
      "nan\n"
     ]
    },
    {
     "name": "stderr",
     "output_type": "stream",
     "text": [
      "nan: 100%|██████████| 59/59 [00:03<00:00, 15.87it/s]\n"
     ]
    },
    {
     "name": "stdout",
     "output_type": "stream",
     "text": [
      "nan\n"
     ]
    }
   ],
   "source": [
    "for e in (range(epochs)):\n",
    "    t = tqdm(range(0,len(train_data), batch_size))\n",
    "    for i in t:\n",
    "#         print(train_data.data[i:i+batch_size].shape)\n",
    "        current_batch_size = train_data.data[i:i+batch_size].shape[0]\n",
    "        inp = train_data.data[i:i+batch_size].reshape(current_batch_size,28*28) / 255\n",
    "        label = train_data.targets[i:i+batch_size]    \n",
    "        \n",
    "#         out = (tf.Neuron(inp.numpy()) @ h_layer) + b_layer.broadcast(current_batch_size)\n",
    "#         out_soft = tf.Softmax(out)\n",
    "        out_soft = model(tf.Neuron(inp.numpy()))\n",
    "        oh_label = tf.one_hot(tf.Neuron(label.numpy()), f_out)\n",
    "        \n",
    "        loss = tf.CrossEntropy(out_soft,oh_label)\n",
    "#         print(loss,out_soft)\n",
    "        loss.backward()\n",
    "#         h_layer.value -= h_layer.grad * lr\n",
    "#         b_layer.value -= b_layer.grad.sum(0) * lr\n",
    "        model.update(lr)\n",
    "        lossi.append(loss.value[0][0])\n",
    "        t.set_description(str(loss.value[0][0]))\n",
    "        loss.backward_zero_grad()\n",
    "        assert model.in_w.grad is None,f\"{model.in_layer.grad}\"\n",
    "    \n",
    "    for i in range(0,len(test_data), batch_size):\n",
    "        current_batch_size = test_data.data[i:i+batch_size].shape[0]\n",
    "        \n",
    "        inp = test_data.data[i:i+batch_size].reshape(current_batch_size,28*28) / 255\n",
    "        label = test_data.targets[i:i+batch_size]    \n",
    "        \n",
    "#         out = (tf.Neuron(inp.numpy()) @ h_layer) +  b_layer.broadcast(current_batch_size)\n",
    "#         out_soft = tf.Softmax(out)\n",
    "        out_soft = model(tf.Neuron(inp.numpy()))\n",
    "        oh_label = tf.one_hot(tf.Neuron(label.numpy()), f_out)\n",
    "        \n",
    "        loss = tf.CrossEntropy(out_soft,oh_label)\n",
    "        \n",
    "        test_lossi.append(loss.value[0][0])"
   ]
  },
  {
   "cell_type": "code",
   "execution_count": null,
   "metadata": {
    "scrolled": false
   },
   "outputs": [],
   "source": [
    "plt.plot(lossi[:])\n",
    "x = list(range(0,len(lossi), math.ceil(len(lossi)/len(test_lossi))))\n",
    "plt.plot(x, test_lossi[:len(x)])\n",
    "plt.xlabel('steps')\n",
    "plt.ylabel('loss')\n",
    "plt.legend(['train', 'test'])\n",
    "plt.show()"
   ]
  },
  {
   "cell_type": "code",
   "execution_count": null,
   "metadata": {},
   "outputs": [],
   "source": [
    "#accuracy\n",
    "correct = 0\n",
    "for i in range(0,len(test_data)//batch_size):\n",
    "    current_batch_size = test_data.data[i:i+batch_size].shape[0]\n",
    "    inp = test_data.data[i:i+batch_size].reshape(current_batch_size,28*28) / 255\n",
    "    label = test_data.targets[i:i+batch_size]    \n",
    "\n",
    "    out = (tf.Neuron(inp.numpy()) @ h_layer) +  b_layer.broadcast(current_batch_size)\n",
    "    out_soft = tf.Softmax(out)\n",
    "    correct += (out_soft.argmax(1) == label.numpy()).sum()\n"
   ]
  },
  {
   "cell_type": "code",
   "execution_count": null,
   "metadata": {},
   "outputs": [],
   "source": [
    "correct/ len(test_data)"
   ]
  },
  {
   "cell_type": "code",
   "execution_count": null,
   "metadata": {},
   "outputs": [],
   "source": [
    "#accuracy\n",
    "correct = 0\n",
    "for i in range(0,len(train_data)//batch_size):\n",
    "    current_batch_size = train_data.data[i:i+batch_size].shape[0]\n",
    "    inp = train_data.data[i:i+batch_size].reshape(current_batch_size,28*28) / 255\n",
    "    label = train_data.targets[i:i+batch_size]    \n",
    "\n",
    "    out = (tf.Neuron(inp.numpy()) @ h_layer) +  b_layer.broadcast(current_batch_size)\n",
    "    out_soft = tf.Softmax(out)\n",
    "    correct += (out_soft.argmax(1) == label.numpy()).sum()"
   ]
  },
  {
   "cell_type": "code",
   "execution_count": null,
   "metadata": {},
   "outputs": [],
   "source": [
    "correct/ len(train_data)"
   ]
  },
  {
   "cell_type": "code",
   "execution_count": null,
   "metadata": {},
   "outputs": [],
   "source": [
    "i = random.randint(0,len(test_data))\n",
    "#inference\n",
    "inp = test_data.data[i].reshape(1,28*28) / 255\n",
    "label = test_data.targets[i]    \n",
    "\n",
    "out = (tf.Neuron(inp.numpy()) @ h_layer) +  b_layer.broadcast(1)\n",
    "out_soft = tf.Softmax(out)\n",
    "print(f'Pred: {out_soft.argmax()}, label: {label}')\n",
    "plt.imshow(test_data.data[i])\n"
   ]
  },
  {
   "cell_type": "code",
   "execution_count": null,
   "metadata": {},
   "outputs": [],
   "source": []
  },
  {
   "cell_type": "code",
   "execution_count": null,
   "metadata": {},
   "outputs": [],
   "source": []
  }
 ],
 "metadata": {
  "kernelspec": {
   "display_name": "Python 3",
   "language": "python",
   "name": "python3"
  },
  "language_info": {
   "codemirror_mode": {
    "name": "ipython",
    "version": 3
   },
   "file_extension": ".py",
   "mimetype": "text/x-python",
   "name": "python",
   "nbconvert_exporter": "python",
   "pygments_lexer": "ipython3",
   "version": "3.8.10"
  },
  "vscode": {
   "interpreter": {
    "hash": "e7370f93d1d0cde622a1f8e1c04877d8463912d04d973331ad4851f04de6915a"
   }
  }
 },
 "nbformat": 4,
 "nbformat_minor": 4
}
