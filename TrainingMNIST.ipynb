{
 "cells": [
  {
   "cell_type": "code",
   "execution_count": 1,
   "metadata": {},
   "outputs": [],
   "source": [
    "import torchvision\n",
    "import numpy as np\n",
    "import TensionFlow as tf\n",
    "import matplotlib.pyplot as plt\n",
    "import time\n",
    "from tqdm import tqdm\n",
    "import torch\n",
    "import random\n",
    "import math\n",
    "import importlib"
   ]
  },
  {
   "cell_type": "code",
   "execution_count": 2,
   "metadata": {},
   "outputs": [
    {
     "data": {
      "text/plain": [
       "<module 'TensionFlow' from '/media/fakhir/SSD/Experiments/AutoGrad/TensionFlow/TensionFlow.py'>"
      ]
     },
     "execution_count": 2,
     "metadata": {},
     "output_type": "execute_result"
    }
   ],
   "source": [
    "importlib.reload(tf)"
   ]
  },
  {
   "cell_type": "code",
   "execution_count": 3,
   "metadata": {},
   "outputs": [],
   "source": [
    "train_data = torchvision.datasets.MNIST('data/', train=True)\n",
    "test_data = torchvision.datasets.MNIST('data/', train=False)"
   ]
  },
  {
   "cell_type": "code",
   "execution_count": 4,
   "metadata": {},
   "outputs": [
    {
     "data": {
      "text/plain": [
       "(Dataset MNIST\n",
       "     Number of datapoints: 60000\n",
       "     Root location: data/\n",
       "     Split: Train,\n",
       " Dataset MNIST\n",
       "     Number of datapoints: 10000\n",
       "     Root location: data/\n",
       "     Split: Test)"
      ]
     },
     "execution_count": 4,
     "metadata": {},
     "output_type": "execute_result"
    }
   ],
   "source": [
    "train_data, test_data"
   ]
  },
  {
   "cell_type": "markdown",
   "metadata": {},
   "source": [
    "**Forward Pass**"
   ]
  },
  {
   "cell_type": "code",
   "execution_count": 5,
   "metadata": {},
   "outputs": [],
   "source": [
    "#defining model\n",
    "f_in = 28*28\n",
    "f_out = 10"
   ]
  },
  {
   "cell_type": "code",
   "execution_count": 6,
   "metadata": {},
   "outputs": [],
   "source": [
    "class Model:\n",
    "    def __init__(self,n_layers,h_dim,f_in,f_out):\n",
    "        \n",
    "        self.in_layer = tf.LinearLayer(f_in,h_dim)\n",
    "        self.out_layer = tf.LinearLayer(h_dim, f_out)\n",
    "        \n",
    "        self.layers = []\n",
    "        for i in range(n_layers):\n",
    "            self.layers.append(tf.LinearLayer(h_dim,h_dim))\n",
    "            \n",
    "    \n",
    "    def __call__(self, x):\n",
    "        \n",
    "#         x = x @ self.in_w + self.in_b.broadcast(x.shape()[0])\n",
    "        x = self.in_layer.forward(x)\n",
    "        x = tf.ReLU(x)\n",
    "        \n",
    "        for layer in self.layers:\n",
    "            x = layer.forward(x)\n",
    "            x = tf.ReLU(x)\n",
    "        \n",
    "        x = self.out_layer.forward(x)\n",
    "        return x\n",
    "\n",
    "    def update(self, lr):\n",
    "#         print(self.in_w.grad.sum())\n",
    "        self.in_layer.update(lr)\n",
    "        self.out_layer.update(lr)\n",
    "        \n",
    "        for layer in self.layers:\n",
    "            x = layer.update(lr)"
   ]
  },
  {
   "cell_type": "code",
   "execution_count": 7,
   "metadata": {},
   "outputs": [],
   "source": [
    "lr = 1e-2"
   ]
  },
  {
   "cell_type": "code",
   "execution_count": 8,
   "metadata": {},
   "outputs": [],
   "source": [
    "lossi = []\n",
    "test_lossi = []"
   ]
  },
  {
   "cell_type": "code",
   "execution_count": 9,
   "metadata": {},
   "outputs": [],
   "source": [
    "epochs = 1"
   ]
  },
  {
   "cell_type": "code",
   "execution_count": 10,
   "metadata": {},
   "outputs": [],
   "source": [
    "batch_size = 64"
   ]
  },
  {
   "cell_type": "code",
   "execution_count": 11,
   "metadata": {},
   "outputs": [],
   "source": [
    "model = Model(1,50,f_in,f_out)"
   ]
  },
  {
   "cell_type": "code",
   "execution_count": 12,
   "metadata": {
    "scrolled": false
   },
   "outputs": [
    {
     "name": "stderr",
     "output_type": "stream",
     "text": [
      "2.302117514697867: 100%|██████████| 938/938 [01:04<00:00, 14.62it/s] \n"
     ]
    }
   ],
   "source": [
    "for e in (range(epochs)):\n",
    "    t = tqdm(range(0,len(train_data), batch_size))\n",
    "    for i in t:\n",
    "        current_batch_size = train_data.data[i:i+batch_size].shape[0]\n",
    "        inp = train_data.data[i:i+batch_size].reshape(current_batch_size,28*28) / 255\n",
    "        label = train_data.targets[i:i+batch_size]    \n",
    "\n",
    "        out_soft = model(tf.Neuron(inp.numpy()))\n",
    "        oh_label = tf.one_hot(tf.Neuron(label.numpy()), f_out)\n",
    "        \n",
    "        loss = tf.CrossEntropy(out_soft.softmax(1),oh_label) \n",
    "        loss.backward()\n",
    "\n",
    "        model.update(lr)\n",
    "        lossi.append(loss.value[0][0])\n",
    "        t.set_description(str(loss.value[0][0]))\n",
    "        loss.backward_zero_grad()\n",
    "    \n",
    "    for i in range(0,len(test_data), batch_size):\n",
    "        current_batch_size = test_data.data[i:i+batch_size].shape[0]\n",
    "        \n",
    "        inp = test_data.data[i:i+batch_size].reshape(current_batch_size,28*28) / 255\n",
    "        label = test_data.targets[i:i+batch_size]    \n",
    "        \n",
    "        out_soft = model(tf.Neuron(inp.numpy()))\n",
    "        oh_label = tf.one_hot(tf.Neuron(label.numpy()), f_out)\n",
    "        \n",
    "        loss = tf.CrossEntropy(out_soft.softmax(1),oh_label) \n",
    "        \n",
    "        test_lossi.append(loss.value[0][0])"
   ]
  },
  {
   "cell_type": "code",
   "execution_count": 13,
   "metadata": {
    "scrolled": false
   },
   "outputs": [
    {
     "data": {
      "image/png": "[encoded data removed]",
      "text/plain": [
       "<Figure size 432x288 with 1 Axes>"
      ]
     },
     "metadata": {
      "needs_background": "light"
     },
     "output_type": "display_data"
    }
   ],
   "source": [
    "plt.plot(lossi[:])\n",
    "x = list(range(0,len(lossi), math.ceil(len(lossi)/len(test_lossi))))\n",
    "plt.plot(x, test_lossi[:len(x)])\n",
    "plt.xlabel('steps')\n",
    "plt.ylabel('loss')\n",
    "plt.legend(['train', 'test'])\n",
    "plt.show()"
   ]
  },
  {
   "cell_type": "code",
   "execution_count": 14,
   "metadata": {},
   "outputs": [],
   "source": [
    "batch_size = 16"
   ]
  },
  {
   "cell_type": "code",
   "execution_count": 15,
   "metadata": {},
   "outputs": [
    {
     "data": {
      "text/plain": [
       "'model.pdf'"
      ]
     },
     "execution_count": 15,
     "metadata": {},
     "output_type": "execute_result"
    }
   ],
   "source": [
    "#accuracy\n",
    "correct = 0\n",
    "for i in range(0,len(test_data), batch_size):\n",
    "    current_batch_size = test_data.data[i:i+batch_size].shape[0]\n",
    "    inp = test_data.data[i:i+batch_size].reshape(current_batch_size,28*28) / 255\n",
    "    label = test_data.targets[i:i+batch_size]    \n",
    "    out_soft = model(tf.Neuron(inp.numpy()))\n",
    "    correct += (out_soft.argmax(1).value == label.numpy()).sum()\n",
    "out_soft.make_graph().render('model')"
   ]
  },
  {
   "cell_type": "code",
   "execution_count": 16,
   "metadata": {},
   "outputs": [
    {
     "data": {
      "text/plain": [
       "0.9148"
      ]
     },
     "execution_count": 16,
     "metadata": {},
     "output_type": "execute_result"
    }
   ],
   "source": [
    "correct/ len(test_data)"
   ]
  },
  {
   "cell_type": "code",
   "execution_count": 17,
   "metadata": {},
   "outputs": [],
   "source": [
    "#accuracy\n",
    "correct = 0\n",
    "for i in range(0,len(train_data), batch_size):\n",
    "    current_batch_size = train_data.data[i:i+batch_size].shape[0]\n",
    "    inp = train_data.data[i:i+batch_size].reshape(current_batch_size,28*28) / 255\n",
    "    label = train_data.targets[i:i+batch_size]    \n",
    "\n",
    "    out_soft = model(tf.Neuron(inp.numpy()))\n",
    "    correct += (out_soft.argmax(1).value == label.numpy()).sum()"
   ]
  },
  {
   "cell_type": "code",
   "execution_count": 18,
   "metadata": {},
   "outputs": [
    {
     "data": {
      "text/plain": [
       "0.9199333333333334"
      ]
     },
     "execution_count": 18,
     "metadata": {},
     "output_type": "execute_result"
    }
   ],
   "source": [
    "correct/ len(train_data)"
   ]
  },
  {
   "cell_type": "code",
   "execution_count": null,
   "metadata": {},
   "outputs": [],
   "source": []
  },
  {
   "cell_type": "code",
   "execution_count": 105,
   "metadata": {},
   "outputs": [
    {
     "name": "stdout",
     "output_type": "stream",
     "text": [
      "Pred: 5, label: 5\n"
     ]
    },
    {
     "data": {
      "text/plain": [
       "<matplotlib.image.AxesImage at 0x7ff7ff5d5730>"
      ]
     },
     "execution_count": 105,
     "metadata": {},
     "output_type": "execute_result"
    },
    {
     "data": {
      "image/png": "[encoded data removed]",
      "text/plain": [
       "<Figure size 432x288 with 1 Axes>"
      ]
     },
     "metadata": {
      "needs_background": "light"
     },
     "output_type": "display_data"
    }
   ],
   "source": [
    "i = random.randint(0,len(test_data))\n",
    "#inference\n",
    "inp = test_data.data[i].reshape(1,28*28) / 255\n",
    "label = test_data.targets[i]    \n",
    "out_soft = model(tf.Neuron(inp.numpy()))\n",
    "print(f'Pred: {out_soft.argmax(1).value[0]}, label: {label}')\n",
    "plt.imshow(test_data.data[i])\n"
   ]
  },
  {
   "cell_type": "code",
   "execution_count": null,
   "metadata": {},
   "outputs": [],
   "source": []
  }
 ],
 "metadata": {
  "kernelspec": {
   "display_name": "Python 3",
   "language": "python",
   "name": "python3"
  },
  "language_info": {
   "codemirror_mode": {
    "name": "ipython",
    "version": 3
   },
   "file_extension": ".py",
   "mimetype": "text/x-python",
   "name": "python",
   "nbconvert_exporter": "python",
   "pygments_lexer": "ipython3",
   "version": "3.8.10"
  },
  "vscode": {
   "interpreter": {
    "hash": "e7370f93d1d0cde622a1f8e1c04877d8463912d04d973331ad4851f04de6915a"
   }
  }
 },
 "nbformat": 4,
 "nbformat_minor": 4
}
