{
 "cells": [
  {
   "cell_type": "code",
   "execution_count": 34,
   "metadata": {},
   "outputs": [],
   "source": [
    "import torchvision\n",
    "import numpy as np\n",
    "import TensionFlow as tf\n",
    "import matplotlib.pyplot as plt\n",
    "import time\n",
    "from tqdm import tqdm\n",
    "import torch\n",
    "import random\n",
    "import math\n",
    "import importlib"
   ]
  },
  {
   "cell_type": "code",
   "execution_count": 35,
   "metadata": {},
   "outputs": [
    {
     "data": {
      "text/plain": [
       "<module 'TensionFlow' from '/media/fakhir/SSD/AIExp/AutoGrad/TensionFlow/TensionFlow.py'>"
      ]
     },
     "execution_count": 35,
     "metadata": {},
     "output_type": "execute_result"
    }
   ],
   "source": [
    "importlib.reload(tf)"
   ]
  },
  {
   "cell_type": "code",
   "execution_count": 36,
   "metadata": {},
   "outputs": [],
   "source": [
    "train_data = torchvision.datasets.MNIST('data/', train=True)\n",
    "test_data = torchvision.datasets.MNIST('data/', train=False)"
   ]
  },
  {
   "cell_type": "code",
   "execution_count": 37,
   "metadata": {},
   "outputs": [
    {
     "data": {
      "text/plain": [
       "(Dataset MNIST\n",
       "     Number of datapoints: 60000\n",
       "     Root location: data/\n",
       "     Split: Train,\n",
       " Dataset MNIST\n",
       "     Number of datapoints: 10000\n",
       "     Root location: data/\n",
       "     Split: Test)"
      ]
     },
     "execution_count": 37,
     "metadata": {},
     "output_type": "execute_result"
    }
   ],
   "source": [
    "train_data, test_data"
   ]
  },
  {
   "cell_type": "markdown",
   "metadata": {},
   "source": [
    "**Forward Pass**"
   ]
  },
  {
   "cell_type": "code",
   "execution_count": 38,
   "metadata": {},
   "outputs": [],
   "source": [
    "#defining model\n",
    "f_in = 28*28\n",
    "f_out = 10\n",
    "\n",
    "# h_layer,b_layer = tf.LinearLayer(f_in, f_out)\n",
    "# b_layer = tf.LinearLayer(1, f_out)"
   ]
  },
  {
   "cell_type": "code",
   "execution_count": 46,
   "metadata": {},
   "outputs": [],
   "source": [
    "class Model:\n",
    "    def __init__(self,n_layers,h_dim,f_in,f_out):\n",
    "        self.in_w, self.in_b = tf.LinearLayer(f_in,h_dim)\n",
    "        self.out_w, self.out_b = tf.LinearLayer(h_dim, f_out)\n",
    "        self.layers = []\n",
    "        self.biases = []\n",
    "        for i in range(n_layers):\n",
    "            w,b = tf.LinearLayer(h_dim,h_dim)\n",
    "            self.layers.append(w)\n",
    "            self.biases.append(b)\n",
    "            \n",
    "    \n",
    "    def __call__(self, x):\n",
    "        x = x @ self.in_w + self.in_b.broadcast(x.shape()[0])\n",
    "        x = tf.ReLU(x)\n",
    "        for w,b in zip(self.layers,self.biases):\n",
    "            x = x @ w + b.broadcast(x.shape()[0])\n",
    "            x = tf.ReLU(x)\n",
    "        x = x @ self.out_w + self.out_b.broadcast(x.shape()[0])\n",
    "        x = tf.Softmax(x)\n",
    "        return x\n",
    "\n",
    "    def update(self, lr):\n",
    "#         print(self.in_w.grad.sum())\n",
    "        self.in_w -= self.in_w.grad * lr\n",
    "        self.out_w -= self.out_w.grad * lr    \n",
    "        self.out_b -= self.out_b.grad * lr    \n",
    "        self.in_b -= self.in_b.grad * lr\n",
    "        \n",
    "        for w,b in zip(self.layers, self.biases):\n",
    "            w -= w.grad * lr    \n",
    "            b -= b.grad * lr                "
   ]
  },
  {
   "cell_type": "code",
   "execution_count": 56,
   "metadata": {},
   "outputs": [],
   "source": [
    "lr = 1e-2"
   ]
  },
  {
   "cell_type": "code",
   "execution_count": 57,
   "metadata": {},
   "outputs": [],
   "source": [
    "lossi = []\n",
    "test_lossi = []"
   ]
  },
  {
   "cell_type": "code",
   "execution_count": 58,
   "metadata": {},
   "outputs": [],
   "source": [
    "epochs = 1"
   ]
  },
  {
   "cell_type": "code",
   "execution_count": 59,
   "metadata": {},
   "outputs": [],
   "source": [
    "batch_size = 1024"
   ]
  },
  {
   "cell_type": "code",
   "execution_count": 60,
   "metadata": {},
   "outputs": [],
   "source": [
    "model = Model(0,50,f_in,f_out)"
   ]
  },
  {
   "cell_type": "code",
   "execution_count": 61,
   "metadata": {
    "scrolled": true
   },
   "outputs": [
    {
     "name": "stderr",
     "output_type": "stream",
     "text": [
      "nan:  31%|███       | 18/59 [00:01<00:03, 10.85it/s]     \n"
     ]
    },
    {
     "ename": "KeyboardInterrupt",
     "evalue": "",
     "output_type": "error",
     "traceback": [
      "\u001b[0;31m---------------------------------------------------------------------------\u001b[0m",
      "\u001b[0;31mKeyboardInterrupt\u001b[0m                         Traceback (most recent call last)",
      "\u001b[0;32m<ipython-input-61-6ee0455e7f72>\u001b[0m in \u001b[0;36m<module>\u001b[0;34m\u001b[0m\n\u001b[1;32m     10\u001b[0m \u001b[0;34m\u001b[0m\u001b[0m\n\u001b[1;32m     11\u001b[0m         \u001b[0mloss\u001b[0m \u001b[0;34m=\u001b[0m \u001b[0mtf\u001b[0m\u001b[0;34m.\u001b[0m\u001b[0mCrossEntropy\u001b[0m\u001b[0;34m(\u001b[0m\u001b[0mout_soft\u001b[0m\u001b[0;34m,\u001b[0m\u001b[0moh_label\u001b[0m\u001b[0;34m)\u001b[0m\u001b[0;34m\u001b[0m\u001b[0;34m\u001b[0m\u001b[0m\n\u001b[0;32m---> 12\u001b[0;31m         \u001b[0mloss\u001b[0m\u001b[0;34m.\u001b[0m\u001b[0mbackward\u001b[0m\u001b[0;34m(\u001b[0m\u001b[0;34m)\u001b[0m\u001b[0;34m\u001b[0m\u001b[0;34m\u001b[0m\u001b[0m\n\u001b[0m\u001b[1;32m     13\u001b[0m \u001b[0;34m\u001b[0m\u001b[0m\n\u001b[1;32m     14\u001b[0m         \u001b[0mmodel\u001b[0m\u001b[0;34m.\u001b[0m\u001b[0mupdate\u001b[0m\u001b[0;34m(\u001b[0m\u001b[0mlr\u001b[0m\u001b[0;34m)\u001b[0m\u001b[0;34m\u001b[0m\u001b[0;34m\u001b[0m\u001b[0m\n",
      "\u001b[0;32m/media/fakhir/SSD/AIExp/AutoGrad/TensionFlow/TensionFlow.py\u001b[0m in \u001b[0;36mbackward\u001b[0;34m(self)\u001b[0m\n\u001b[1;32m    221\u001b[0m                 \u001b[0;31m# print(root, child)\u001b[0m\u001b[0;34m\u001b[0m\u001b[0;34m\u001b[0m\u001b[0;34m\u001b[0m\u001b[0m\n\u001b[1;32m    222\u001b[0m                 \u001b[0;32mif\u001b[0m \u001b[0;32mnot\u001b[0m \u001b[0;34m(\u001b[0m\u001b[0mchild\u001b[0m\u001b[0;34m.\u001b[0m\u001b[0mgrad\u001b[0m \u001b[0;32mis\u001b[0m \u001b[0;32mNone\u001b[0m\u001b[0;34m)\u001b[0m\u001b[0;34m:\u001b[0m\u001b[0;34m\u001b[0m\u001b[0;34m\u001b[0m\u001b[0m\n\u001b[0;32m--> 223\u001b[0;31m                     \u001b[0mchild\u001b[0m\u001b[0;34m.\u001b[0m\u001b[0mgrad\u001b[0m \u001b[0;34m+=\u001b[0m \u001b[0mlocal_backwards\u001b[0m\u001b[0;34m(\u001b[0m\u001b[0mroot\u001b[0m\u001b[0;34m.\u001b[0m\u001b[0mgrad\u001b[0m\u001b[0;34m)\u001b[0m\u001b[0;34m\u001b[0m\u001b[0;34m\u001b[0m\u001b[0m\n\u001b[0m\u001b[1;32m    224\u001b[0m                 \u001b[0;32melse\u001b[0m\u001b[0;34m:\u001b[0m\u001b[0;34m\u001b[0m\u001b[0;34m\u001b[0m\u001b[0m\n\u001b[1;32m    225\u001b[0m                     \u001b[0mchild\u001b[0m\u001b[0;34m.\u001b[0m\u001b[0mgrad\u001b[0m \u001b[0;34m=\u001b[0m \u001b[0mlocal_backwards\u001b[0m\u001b[0;34m(\u001b[0m\u001b[0mroot\u001b[0m\u001b[0;34m.\u001b[0m\u001b[0mgrad\u001b[0m\u001b[0;34m)\u001b[0m\u001b[0;34m\u001b[0m\u001b[0;34m\u001b[0m\u001b[0m\n",
      "\u001b[0;32m/media/fakhir/SSD/AIExp/AutoGrad/TensionFlow/TensionFlow.py\u001b[0m in \u001b[0;36m<lambda>\u001b[0;34m(x)\u001b[0m\n\u001b[1;32m     57\u001b[0m         \u001b[0mt2\u001b[0m \u001b[0;34m=\u001b[0m \u001b[0mself\u001b[0m\u001b[0;34m.\u001b[0m\u001b[0mvalue\u001b[0m\u001b[0;34m.\u001b[0m\u001b[0mT\u001b[0m\u001b[0;34m\u001b[0m\u001b[0;34m\u001b[0m\u001b[0m\n\u001b[1;32m     58\u001b[0m         \u001b[0mnew_neuron\u001b[0m\u001b[0;34m.\u001b[0m\u001b[0m_local_backwards\u001b[0m\u001b[0;34m.\u001b[0m\u001b[0mappend\u001b[0m\u001b[0;34m(\u001b[0m\u001b[0;32mlambda\u001b[0m \u001b[0mx\u001b[0m\u001b[0;34m:\u001b[0m \u001b[0mx\u001b[0m \u001b[0;34m@\u001b[0m \u001b[0mt1\u001b[0m\u001b[0;34m)\u001b[0m\u001b[0;34m\u001b[0m\u001b[0;34m\u001b[0m\u001b[0m\n\u001b[0;32m---> 59\u001b[0;31m         \u001b[0mnew_neuron\u001b[0m\u001b[0;34m.\u001b[0m\u001b[0m_local_backwards\u001b[0m\u001b[0;34m.\u001b[0m\u001b[0mappend\u001b[0m\u001b[0;34m(\u001b[0m\u001b[0;32mlambda\u001b[0m \u001b[0mx\u001b[0m\u001b[0;34m:\u001b[0m \u001b[0mt2\u001b[0m \u001b[0;34m@\u001b[0m \u001b[0mx\u001b[0m\u001b[0;34m)\u001b[0m\u001b[0;34m\u001b[0m\u001b[0;34m\u001b[0m\u001b[0m\n\u001b[0m\u001b[1;32m     60\u001b[0m         \u001b[0;32mreturn\u001b[0m \u001b[0mnew_neuron\u001b[0m\u001b[0;34m\u001b[0m\u001b[0;34m\u001b[0m\u001b[0m\n\u001b[1;32m     61\u001b[0m \u001b[0;34m\u001b[0m\u001b[0m\n",
      "\u001b[0;31mKeyboardInterrupt\u001b[0m: "
     ]
    }
   ],
   "source": [
    "for e in (range(epochs)):\n",
    "    t = tqdm(range(0,len(train_data), batch_size))\n",
    "    for i in t:\n",
    "        current_batch_size = train_data.data[i:i+batch_size].shape[0]\n",
    "        inp = train_data.data[i:i+batch_size].reshape(current_batch_size,28*28) / 255\n",
    "        label = train_data.targets[i:i+batch_size]    \n",
    "\n",
    "        out_soft = model(tf.Neuron(inp.numpy()))\n",
    "        oh_label = tf.one_hot(tf.Neuron(label.numpy()), f_out)\n",
    "        \n",
    "        loss = tf.CrossEntropy(out_soft,oh_label)\n",
    "        loss.backward()\n",
    "\n",
    "        model.update(lr)\n",
    "        lossi.append(loss.value[0][0])\n",
    "        t.set_description(str(loss.value[0][0]))\n",
    "        loss.backward_zero_grad()\n",
    "        assert model.in_w.grad is None,f\"{model.in_layer.grad}\"\n",
    "    \n",
    "    for i in range(0,len(test_data), batch_size):\n",
    "        current_batch_size = test_data.data[i:i+batch_size].shape[0]\n",
    "        \n",
    "        inp = test_data.data[i:i+batch_size].reshape(current_batch_size,28*28) / 255\n",
    "        label = test_data.targets[i:i+batch_size]    \n",
    "        \n",
    "        out_soft = model(tf.Neuron(inp.numpy()))\n",
    "        oh_label = tf.one_hot(tf.Neuron(label.numpy()), f_out)\n",
    "        \n",
    "        loss = tf.CrossEntropy(out_soft,oh_label)\n",
    "        \n",
    "        test_lossi.append(loss.value[0][0])"
   ]
  },
  {
   "cell_type": "code",
   "execution_count": null,
   "metadata": {
    "scrolled": false
   },
   "outputs": [],
   "source": [
    "plt.plot(lossi[:])\n",
    "x = list(range(0,len(lossi), math.ceil(len(lossi)/len(test_lossi))))\n",
    "plt.plot(x, test_lossi[:len(x)])\n",
    "plt.xlabel('steps')\n",
    "plt.ylabel('loss')\n",
    "plt.legend(['train', 'test'])\n",
    "plt.show()"
   ]
  },
  {
   "cell_type": "code",
   "execution_count": null,
   "metadata": {},
   "outputs": [],
   "source": [
    "#accuracy\n",
    "correct = 0\n",
    "for i in range(0,len(test_data)//batch_size):\n",
    "    current_batch_size = test_data.data[i:i+batch_size].shape[0]\n",
    "    inp = test_data.data[i:i+batch_size].reshape(current_batch_size,28*28) / 255\n",
    "    label = test_data.targets[i:i+batch_size]    \n",
    "\n",
    "    out = (tf.Neuron(inp.numpy()) @ h_layer) +  b_layer.broadcast(current_batch_size)\n",
    "    out_soft = tf.Softmax(out)\n",
    "    correct += (out_soft.argmax(1) == label.numpy()).sum()\n"
   ]
  },
  {
   "cell_type": "code",
   "execution_count": null,
   "metadata": {},
   "outputs": [],
   "source": [
    "correct/ len(test_data)"
   ]
  },
  {
   "cell_type": "code",
   "execution_count": null,
   "metadata": {},
   "outputs": [],
   "source": [
    "#accuracy\n",
    "correct = 0\n",
    "for i in range(0,len(train_data)//batch_size):\n",
    "    current_batch_size = train_data.data[i:i+batch_size].shape[0]\n",
    "    inp = train_data.data[i:i+batch_size].reshape(current_batch_size,28*28) / 255\n",
    "    label = train_data.targets[i:i+batch_size]    \n",
    "\n",
    "    out = (tf.Neuron(inp.numpy()) @ h_layer) +  b_layer.broadcast(current_batch_size)\n",
    "    out_soft = tf.Softmax(out)\n",
    "    correct += (out_soft.argmax(1) == label.numpy()).sum()"
   ]
  },
  {
   "cell_type": "code",
   "execution_count": null,
   "metadata": {},
   "outputs": [],
   "source": [
    "correct/ len(train_data)"
   ]
  },
  {
   "cell_type": "code",
   "execution_count": null,
   "metadata": {},
   "outputs": [],
   "source": [
    "i = random.randint(0,len(test_data))\n",
    "#inference\n",
    "inp = test_data.data[i].reshape(1,28*28) / 255\n",
    "label = test_data.targets[i]    \n",
    "\n",
    "out = (tf.Neuron(inp.numpy()) @ h_layer) +  b_layer.broadcast(1)\n",
    "out_soft = tf.Softmax(out)\n",
    "print(f'Pred: {out_soft.argmax()}, label: {label}')\n",
    "plt.imshow(test_data.data[i])\n"
   ]
  },
  {
   "cell_type": "code",
   "execution_count": null,
   "metadata": {},
   "outputs": [],
   "source": []
  },
  {
   "cell_type": "code",
   "execution_count": null,
   "metadata": {},
   "outputs": [],
   "source": []
  }
 ],
 "metadata": {
  "kernelspec": {
   "display_name": "Python 3",
   "language": "python",
   "name": "python3"
  },
  "language_info": {
   "codemirror_mode": {
    "name": "ipython",
    "version": 3
   },
   "file_extension": ".py",
   "mimetype": "text/x-python",
   "name": "python",
   "nbconvert_exporter": "python",
   "pygments_lexer": "ipython3",
   "version": "3.8.10"
  },
  "vscode": {
   "interpreter": {
    "hash": "e7370f93d1d0cde622a1f8e1c04877d8463912d04d973331ad4851f04de6915a"
   }
  }
 },
 "nbformat": 4,
 "nbformat_minor": 4
}
