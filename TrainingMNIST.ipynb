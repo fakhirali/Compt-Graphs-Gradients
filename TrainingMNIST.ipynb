{
 "cells": [
  {
   "cell_type": "code",
   "execution_count": 1,
   "metadata": {},
   "outputs": [
    {
     "name": "stderr",
     "output_type": "stream",
     "text": [
      "/home/fakhir/.local/lib/python3.10/site-packages/tqdm/auto.py:22: TqdmWarning: IProgress not found. Please update jupyter and ipywidgets. See https://ipywidgets.readthedocs.io/en/stable/user_install.html\n",
      "  from .autonotebook import tqdm as notebook_tqdm\n"
     ]
    }
   ],
   "source": [
    "import torchvision\n",
    "import numpy as np\n",
    "import TensionFlow as tf\n",
    "import matplotlib.pyplot as plt\n",
    "import time\n",
    "from tqdm import tqdm\n",
    "import torch\n",
    "import random\n",
    "import math\n",
    "import importlib"
   ]
  },
  {
   "cell_type": "code",
   "execution_count": 2,
   "metadata": {},
   "outputs": [
    {
     "data": {
      "text/plain": [
       "<module 'TensionFlow' from '/home/fakhir/Code/TensionFlow/TensionFlow.py'>"
      ]
     },
     "execution_count": 2,
     "metadata": {},
     "output_type": "execute_result"
    }
   ],
   "source": [
    "importlib.reload(tf)"
   ]
  },
  {
   "cell_type": "code",
   "execution_count": 3,
   "metadata": {},
   "outputs": [],
   "source": [
    "train_data = torchvision.datasets.MNIST('data/', train=True)\n",
    "test_data = torchvision.datasets.MNIST('data/', train=False)"
   ]
  },
  {
   "cell_type": "code",
   "execution_count": 4,
   "metadata": {},
   "outputs": [
    {
     "data": {
      "text/plain": [
       "(Dataset MNIST\n",
       "     Number of datapoints: 60000\n",
       "     Root location: data/\n",
       "     Split: Train,\n",
       " Dataset MNIST\n",
       "     Number of datapoints: 10000\n",
       "     Root location: data/\n",
       "     Split: Test)"
      ]
     },
     "execution_count": 4,
     "metadata": {},
     "output_type": "execute_result"
    }
   ],
   "source": [
    "train_data, test_data"
   ]
  },
  {
   "cell_type": "markdown",
   "metadata": {},
   "source": [
    "**TensionFlow**"
   ]
  },
  {
   "cell_type": "code",
   "execution_count": 7,
   "metadata": {},
   "outputs": [],
   "source": [
    "f_in = 28*28\n",
    "f_out = 10\n",
    "h_layer = tf.Neuron(np.random.uniform(low=-np.sqrt(1/f_in), high=np.sqrt(1/f_in), size=(f_in, f_out)))\n",
    "b_layer = tf.Neuron(np.random.uniform(low=-np.sqrt(1/f_in), high=np.sqrt(1/f_in), size=(1 , f_out)))"
   ]
  },
  {
   "cell_type": "code",
   "execution_count": 8,
   "metadata": {},
   "outputs": [],
   "source": [
    "i = 0\n",
    "batch_size = 64"
   ]
  },
  {
   "cell_type": "code",
   "execution_count": 9,
   "metadata": {},
   "outputs": [],
   "source": [
    "inp = train_data.data[i:i+batch_size].reshape(batch_size,28*28) / 255\n",
    "label = train_data.targets[i:i+batch_size]    \n",
    "out = (tf.Neuron(inp.numpy()) @ h_layer) + (tf.Neuron(np.ones((batch_size,1))) @ b_layer)\n",
    "# print(out.shape())\n",
    "# out.backward()\n",
    "e = out.exp()\n",
    "# # e.backward()\n",
    "e_s = e.sum(1)\n",
    "# print(e.shape())\n",
    "out_soft = e / (e_s @ tf.Neuron(np.ones((1,10))))\n",
    "# print(out_soft.shape())\n",
    "# out_soft.backward()\n",
    "# print(out_soft.value.shape)\n",
    "\n",
    "# oh_label = tf.Neuron(one_hot(label.numpy()))\n",
    "\n",
    "# loss = -(out_soft * oh_label).sum().log().sum(0)\n",
    "# loss.backward()"
   ]
  },
  {
   "cell_type": "code",
   "execution_count": 10,
   "metadata": {},
   "outputs": [],
   "source": [
    "#defining model\n",
    "f_in = 28*28\n",
    "f_out = 10\n",
    "h_layer = tf.Neuron(np.random.uniform(low=-np.sqrt(1/f_in), high=np.sqrt(1/f_in), size=(f_in, f_out)))\n",
    "b_layer = tf.Neuron(np.random.uniform(low=-np.sqrt(1/f_in), high=np.sqrt(1/f_in), size=(1 , f_out)))"
   ]
  },
  {
   "cell_type": "code",
   "execution_count": 11,
   "metadata": {},
   "outputs": [],
   "source": [
    "lr = 1e-6"
   ]
  },
  {
   "cell_type": "code",
   "execution_count": 12,
   "metadata": {},
   "outputs": [],
   "source": [
    "lossi = []\n",
    "test_lossi = []"
   ]
  },
  {
   "cell_type": "code",
   "execution_count": 13,
   "metadata": {},
   "outputs": [],
   "source": [
    "epochs = 10"
   ]
  },
  {
   "cell_type": "code",
   "execution_count": 14,
   "metadata": {},
   "outputs": [],
   "source": [
    "batch_size = 256"
   ]
  },
  {
   "cell_type": "code",
   "execution_count": null,
   "metadata": {
    "scrolled": true
   },
   "outputs": [
    {
     "name": "stderr",
     "output_type": "stream",
     "text": [
      "\r",
      "  0%|                                                    | 0/10 [00:00<?, ?it/s]"
     ]
    }
   ],
   "source": [
    "for e in tqdm(range(epochs)):\n",
    "    for i in range(0,len(train_data), batch_size):\n",
    "#         print(train_data.data[i:i+batch_size].shape)\n",
    "        current_batch_size = train_data.data[i:i+batch_size].shape[0]\n",
    "        inp = train_data.data[i:i+batch_size].reshape(current_batch_size,28*28) / 255\n",
    "        label = train_data.targets[i:i+batch_size]    \n",
    "        \n",
    "        out = (tf.Neuron(inp.numpy()) @ h_layer) + (tf.Neuron(np.ones((current_batch_size,1))) @ b_layer)\n",
    "        e = out.exp()\n",
    "        e_s = e.sum(1)\n",
    "        out_soft = e / (e_s @ tf.Neuron(np.ones((1,10))))\n",
    "        \n",
    "        oh_label = tf.one_hot(tf.Neuron(label.numpy()), f_out)\n",
    "        \n",
    "        loss = -(out_soft * oh_label).sum().log().sum(0)\n",
    "        loss.backward()\n",
    "        h_layer.value -= h_layer.grad * lr\n",
    "        b_layer.value -= b_layer.grad.sum(0) * lr\n",
    "        lossi.append(loss.value[0][0])\n",
    "        loss.backward_zero_grad()\n",
    "#         print(loss)\n",
    "    \n",
    "    for i in range(0,len(test_data), batch_size):\n",
    "        current_batch_size = test_data.data[i:i+batch_size].shape[0]\n",
    "        \n",
    "        inp = test_data.data[i:i+batch_size].reshape(current_batch_size,28*28) / 255\n",
    "        label = test_data.targets[i:i+batch_size]    \n",
    "        \n",
    "        out = (tf.Neuron(inp.numpy()) @ h_layer) + (tf.Neuron(np.ones((current_batch_size,1))) @ b_layer)\n",
    "        e = out.exp()\n",
    "        e_s = e.sum(1)\n",
    "        out_soft = e / (e_s @ tf.Neuron(np.ones((1,10))))\n",
    "        oh_label = tf.one_hot(tf.Neuron(label.numpy()), f_out)\n",
    "        loss = -(out_soft * oh_label).sum().log().sum(0)\n",
    "        test_lossi.append(loss.value[0][0])"
   ]
  },
  {
   "cell_type": "code",
   "execution_count": null,
   "metadata": {},
   "outputs": [],
   "source": [
    "len(test_lossi)"
   ]
  },
  {
   "cell_type": "code",
   "execution_count": null,
   "metadata": {},
   "outputs": [],
   "source": [
    "len(lossi) / len(test_lossi)"
   ]
  },
  {
   "cell_type": "code",
   "execution_count": null,
   "metadata": {},
   "outputs": [],
   "source": [
    "len(test_lossi)"
   ]
  },
  {
   "cell_type": "code",
   "execution_count": null,
   "metadata": {},
   "outputs": [],
   "source": [
    "len(lossi) / 5"
   ]
  },
  {
   "cell_type": "code",
   "execution_count": null,
   "metadata": {},
   "outputs": [],
   "source": [
    "len(test_lossi)"
   ]
  },
  {
   "cell_type": "code",
   "execution_count": null,
   "metadata": {},
   "outputs": [],
   "source": [
    "len(x)"
   ]
  },
  {
   "cell_type": "code",
   "execution_count": null,
   "metadata": {},
   "outputs": [],
   "source": [
    "x[-1]"
   ]
  },
  {
   "cell_type": "code",
   "execution_count": null,
   "metadata": {
    "scrolled": false
   },
   "outputs": [],
   "source": [
    "plt.plot(lossi[:])\n",
    "x = list(range(0,len(lossi), math.ceil(len(lossi)/len(test_lossi))))\n",
    "plt.plot(x, test_lossi[:len(x)])\n",
    "plt.xlabel('steps')\n",
    "plt.ylabel('loss')\n",
    "plt.legend(['train', 'test'])\n",
    "plt.show()"
   ]
  },
  {
   "cell_type": "code",
   "execution_count": null,
   "metadata": {},
   "outputs": [],
   "source": [
    "#accuracy\n",
    "correct = 0\n",
    "for i in range(0,len(test_data)//batch_size):\n",
    "    current_batch_size = test_data.data[i:i+batch_size].shape[0]\n",
    "    inp = test_data.data[i:i+batch_size].reshape(current_batch_size,28*28) / 255\n",
    "    label = test_data.targets[i:i+batch_size]    \n",
    "\n",
    "    out = (tf.Neuron(inp.numpy()) @ h_layer) + (tf.Neuron(np.ones((current_batch_size,1))) @ b_layer)\n",
    "    e = out.exp()\n",
    "    e_s = e.sum(1)\n",
    "    out_soft = e / (e_s @ tf.Neuron(np.ones((1,10))))\n",
    "    correct += (out_soft.argmax(1) == label.numpy()).sum()\n",
    "#     loss = -(out_soft * oh_label).sum().log().sum(0)\n",
    "#     test_lossi.append(loss.value[0][0])"
   ]
  },
  {
   "cell_type": "code",
   "execution_count": null,
   "metadata": {},
   "outputs": [],
   "source": [
    "correct/ len(test_data)"
   ]
  },
  {
   "cell_type": "code",
   "execution_count": null,
   "metadata": {},
   "outputs": [],
   "source": [
    "#accuracy\n",
    "correct = 0\n",
    "for i in range(0,len(train_data)//batch_size):\n",
    "    current_batch_size = train_data.data[i:i+batch_size].shape[0]\n",
    "    inp = train_data.data[i:i+batch_size].reshape(current_batch_size,28*28) / 255\n",
    "    label = train_data.targets[i:i+batch_size]    \n",
    "\n",
    "    out = (tf.Neuron(inp.numpy()) @ h_layer) + (tf.Neuron(np.ones((current_batch_size,1))) @ b_layer)\n",
    "    e = out.exp()\n",
    "    e_s = e.sum(1)\n",
    "    out_soft = e / (e_s @ tf.Neuron(np.ones((1,10))))\n",
    "    correct += (out_soft.argmax(1) == label.numpy()).sum()\n",
    "#     loss = -(out_soft * oh_label).sum().log().sum(0)\n",
    "#     test_lossi.append(loss.value[0][0])"
   ]
  },
  {
   "cell_type": "code",
   "execution_count": null,
   "metadata": {},
   "outputs": [],
   "source": [
    "correct/ len(train_data)"
   ]
  },
  {
   "cell_type": "code",
   "execution_count": null,
   "metadata": {},
   "outputs": [],
   "source": [
    "i = random.randint(0,len(test_data))\n",
    "#inference\n",
    "inp = test_data.data[i].reshape(1,28*28) / 255\n",
    "label = test_data.targets[i]    \n",
    "\n",
    "out = (tf.Neuron(inp.numpy()) @ h_layer) + (tf.Neuron(np.ones((1,1))) @ b_layer)\n",
    "e = out.exp()\n",
    "e_s = e.sum(1)\n",
    "out_soft = e / (e_s @ tf.Neuron(np.ones((1,10))))\n",
    "print(f'Pred: {out_soft.argmax()}, label: {label}')\n",
    "plt.imshow(test_data.data[i])\n"
   ]
  },
  {
   "cell_type": "code",
   "execution_count": null,
   "metadata": {},
   "outputs": [],
   "source": []
  },
  {
   "cell_type": "code",
   "execution_count": null,
   "metadata": {},
   "outputs": [],
   "source": []
  }
 ],
 "metadata": {
  "kernelspec": {
   "display_name": "Python 3 (ipykernel)",
   "language": "python",
   "name": "python3"
  },
  "language_info": {
   "codemirror_mode": {
    "name": "ipython",
    "version": 3
   },
   "file_extension": ".py",
   "mimetype": "text/x-python",
   "name": "python",
   "nbconvert_exporter": "python",
   "pygments_lexer": "ipython3",
   "version": "3.10.6"
  },
  "vscode": {
   "interpreter": {
    "hash": "e7370f93d1d0cde622a1f8e1c04877d8463912d04d973331ad4851f04de6915a"
   }
  }
 },
 "nbformat": 4,
 "nbformat_minor": 4
}
