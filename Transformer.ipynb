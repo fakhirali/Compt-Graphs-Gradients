{
 "cells": [
  {
   "cell_type": "code",
   "execution_count": 3,
   "id": "45d819a6",
   "metadata": {},
   "outputs": [],
   "source": [
    "import TensionFlow as tf\n",
    "import numpy as np\n",
    "import torch"
   ]
  },
  {
   "cell_type": "code",
   "execution_count": 2,
   "id": "9bf20d20",
   "metadata": {},
   "outputs": [],
   "source": [
    "class Attention:\n",
    "    def __init__(self, embedding_dim):\n",
    "        self.query_proj = tf.LinearLayer(embedding_dim, embedding_dim, bias=False)\n",
    "        self.key_proj = tf.LinearLayer(embedding_dim, embedding_dim, bias=False)        \n",
    "        self.value_proj = tf.LinearLayer(embedding_dim, embedding_dim, bias=False)        \n",
    "        self.embedding_dim = embedding_dim\n",
    "    def forward(self, x):\n",
    "        b,t,d = x.shape()\n",
    "        q = self.query_proj.forward(x)\n",
    "        k = self.key_proj.forward(x)                        \n",
    "        v = self.value_proj.forward(x)        \n",
    "        compat = q @ k.reshape((b,d, t)) / tf.Neuron(np.sqrt(self.embedding_dim))\n",
    "        compat_soft = compat.softmax(dim=2)\n",
    "        out = v.reshape((b,d, t)) @ compat_soft\n",
    "        return out.reshape((b,t,d))"
   ]
  },
  {
   "cell_type": "code",
   "execution_count": 54,
   "id": "80f377d8",
   "metadata": {},
   "outputs": [],
   "source": [
    "attn = Attention(16)"
   ]
  },
  {
   "cell_type": "code",
   "execution_count": 55,
   "id": "2bc9aed2",
   "metadata": {},
   "outputs": [],
   "source": [
    "inp = tf.Neuron(np.random.randn(10,10,16))"
   ]
  },
  {
   "cell_type": "code",
   "execution_count": 56,
   "id": "6ab1d3b3",
   "metadata": {},
   "outputs": [],
   "source": [
    "out = attn.forward(inp)"
   ]
  },
  {
   "cell_type": "code",
   "execution_count": 57,
   "id": "95d7517d",
   "metadata": {},
   "outputs": [
    {
     "data": {
      "text/plain": [
       "(10, 10, 16)"
      ]
     },
     "execution_count": 57,
     "metadata": {},
     "output_type": "execute_result"
    }
   ],
   "source": [
    "out.shape()"
   ]
  },
  {
   "cell_type": "code",
   "execution_count": 58,
   "id": "2679c5f7",
   "metadata": {
    "scrolled": false
   },
   "outputs": [
    {
     "data": {
      "text/plain": [
       "'transformer.pdf'"
      ]
     },
     "execution_count": 58,
     "metadata": {},
     "output_type": "execute_result"
    }
   ],
   "source": [
    "out.make_graph().render('transformer')"
   ]
  },
  {
   "cell_type": "code",
   "execution_count": 68,
   "id": "7b11fa50",
   "metadata": {},
   "outputs": [
    {
     "name": "stdout",
     "output_type": "stream",
     "text": [
      "1.769472\n"
     ]
    }
   ],
   "source": [
    "dim = 768\n",
    "q_params = dim**2\n",
    "k_params = dim**2\n",
    "v_params = dim**2\n",
    "all_params = q_params + k_params + v_params\n",
    "print(all_params * 1e-6)\n",
    "\n"
   ]
  },
  {
   "cell_type": "code",
   "execution_count": null,
   "id": "af10d982",
   "metadata": {},
   "outputs": [],
   "source": []
  },
  {
   "cell_type": "code",
   "execution_count": null,
   "id": "57ecbc6f",
   "metadata": {},
   "outputs": [],
   "source": []
  },
  {
   "cell_type": "code",
   "execution_count": 59,
   "id": "87700d1e",
   "metadata": {},
   "outputs": [],
   "source": [
    "a = np.arange(100).reshape(10,1,10)"
   ]
  },
  {
   "cell_type": "code",
   "execution_count": 60,
   "id": "974b96cf",
   "metadata": {},
   "outputs": [],
   "source": [
    "out = a @ np.ones((10,10,10))"
   ]
  },
  {
   "cell_type": "code",
   "execution_count": 61,
   "id": "88f19fa8",
   "metadata": {},
   "outputs": [
    {
     "data": {
      "text/plain": [
       "(10, 1, 10)"
      ]
     },
     "execution_count": 61,
     "metadata": {},
     "output_type": "execute_result"
    }
   ],
   "source": [
    "out.shape"
   ]
  },
  {
   "cell_type": "code",
   "execution_count": null,
   "id": "3f0c983a",
   "metadata": {},
   "outputs": [],
   "source": []
  }
 ],
 "metadata": {
  "kernelspec": {
   "display_name": "Python 3",
   "language": "python",
   "name": "python3"
  },
  "language_info": {
   "codemirror_mode": {
    "name": "ipython",
    "version": 3
   },
   "file_extension": ".py",
   "mimetype": "text/x-python",
   "name": "python",
   "nbconvert_exporter": "python",
   "pygments_lexer": "ipython3",
   "version": "3.8.10"
  }
 },
 "nbformat": 4,
 "nbformat_minor": 5
}
